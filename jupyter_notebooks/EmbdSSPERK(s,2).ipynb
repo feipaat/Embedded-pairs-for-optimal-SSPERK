{
 "cells": [
  {
   "cell_type": "markdown",
   "metadata": {},
   "source": [
    "# Embedded pairs for optimal SSPERK$(s,2)$ methods"
   ]
  },
  {
   "cell_type": "markdown",
   "metadata": {},
   "source": [
    "The embedded pairs for SSPERK$(s,2)$ methods are \n",
    "\n",
    "$$b_1^T=\\left(\\frac{1}{s-1},\\ldots,\\frac{1}{s-1},0\\right)\\quad \\text{and}\\ \\quad b_2^T=\\left(\\frac{s+1}{s^2},\\frac{1}{s},\\ldots,\\frac{1}{s},\\frac{s-1}{s^2}\\right).$$\n",
    "\n",
    "We compare our embedded methods and the original method based on the stability radius values."
   ]
  },
  {
   "cell_type": "code",
   "execution_count": 14,
   "metadata": {},
   "outputs": [],
   "source": [
    "%matplotlib inline\n",
    "import matplotlib.pyplot as plt\n",
    "from nodepy import rk\n",
    "import numpy as np\n",
    "import math"
   ]
  },
  {
   "cell_type": "code",
   "execution_count": 15,
   "metadata": {},
   "outputs": [
    {
     "data": {
      "text/plain": [
       "Text(0.5, 1, 'Absolute stability region - b_2 pair')"
      ]
     },
     "execution_count": 15,
     "metadata": {},
     "output_type": "execute_result"
    },
    {
     "data": {
      "image/png": "[encoded data removed]",
      "text/plain": [
       "<Figure size 432x288 with 1 Axes>"
      ]
     },
     "metadata": {
      "needs_background": "light"
     },
     "output_type": "display_data"
    },
    {
     "data": {
      "image/png": "[encoded data removed]",
      "text/plain": [
       "<Figure size 432x288 with 1 Axes>"
      ]
     },
     "metadata": {
      "needs_background": "light"
     },
     "output_type": "display_data"
    }
   ],
   "source": [
    "## SSPERK(s,2) methods\n",
    "s = 2\n",
    "rk2 = rk.SSPRK2(s)\n",
    "#print(rk2)\n",
    "\n",
    "## Embedded pair - b_1\n",
    "b_1 = 1./(s-1) * np.ones(s); b_1[s-1]=0;\n",
    "#print(b1)\n",
    "rk_b_1_pair = rk.ExplicitRungeKuttaPair(rk2.A,rk2.b,b_1)\n",
    "# Stability region and save as an eps file\n",
    "fig1=rk_b_1_pair.plot_stability_region(N=1000);\n",
    "fig1.axes[0].set_title('Absolute stability region - b_1 pair')\n",
    "#fig1.axes[0].set_title('')\n",
    "#plt.savefig('SSPERKs2.eps', format='eps', dpi=10000)\n",
    "\n",
    "## Embedded pair - b_2\n",
    "b_2 = 1./(s) * np.ones(s); b_2[0]=(s+1.)/(s*s); b_2[s-1]=(s-1.)/(s*s);\n",
    "#print(b2)\n",
    "# Stability region and save to a file\n",
    "rk_b_2_pair = rk.ExplicitRungeKuttaPair(rk2.A,rk2.b,b_2)\n",
    "fig2=rk_b_2_pair.plot_stability_region(N=1000);\n",
    "fig2.axes[0].set_title('Absolute stability region - b_2 pair')\n",
    "#fig2.axes[0].set_title('')\n",
    "#plt.savefig('SSPERKs2b.eps', format='eps', dpi=10000)\n",
    "\n"
   ]
  },
  {
   "cell_type": "code",
   "execution_count": 4,
   "metadata": {},
   "outputs": [
    {
     "name": "stdout",
     "output_type": "stream",
     "text": [
      "The SSPERK(s,2) method - stability radius values\n",
      "1.9999999999999996\n",
      "Warning: unable to determine exact imaginary stability interval\n",
      "2.9802322387695306e-08\n",
      "1.0000000000000009\n",
      "0.9999999999308784\n",
      "\n",
      "\n",
      "b_1 stability radius values\n",
      "2.0\n",
      "0\n",
      "1.0000000000000009\n",
      "0.9999999999308784\n",
      "\n",
      "\n",
      "b_2 stability radius values\n",
      "4.000000000000001\n",
      "0\n",
      "1.267949192431117\n",
      "0.9999999999308784\n"
     ]
    }
   ],
   "source": [
    "## Real stability interval, Imaginary stability interval, Circle contractivity radius\n",
    "print('The SSPERK(s,2) method - stability radius values')\n",
    "print(rk2.__num__().real_stability_interval(mode='float'))\n",
    "print(rk2.__num__().imaginary_stability_interval(mode='float'))\n",
    "print(rk2.__num__().circle_contractivity_radius())\n",
    "print(rk2.__num__().absolute_monotonicity_radius())\n",
    "\n",
    "print('\\n')\n",
    "print('b_1 stability radius values')\n",
    "print(rk_b_1_pair.embedded_method.__num__().real_stability_interval(mode='float'))\n",
    "print(rk_b_1_pair.embedded_method.__num__().imaginary_stability_interval(mode='float'))\n",
    "print(rk_b_1_pair.embedded_method.__num__().circle_contractivity_radius())\n",
    "print(rk_b_1_pair.embedded_method.__num__().absolute_monotonicity_radius())\n",
    "\n",
    "print('\\n')\n",
    "print('b_2 stability radius values')\n",
    "print(rk_b_2_pair.embedded_method.__num__().real_stability_interval(mode='float'))\n",
    "print(rk_b_2_pair.embedded_method.__num__().imaginary_stability_interval(mode='float'))\n",
    "print(rk_b_2_pair.embedded_method.__num__().circle_contractivity_radius())\n",
    "print(rk_b_2_pair.embedded_method.__num__().absolute_monotonicity_radius())\n"
   ]
  },
  {
   "cell_type": "markdown",
   "metadata": {
    "collapsed": true
   },
   "source": [
    "We compare our embedded methods and the original method based on the error metric values."
   ]
  },
  {
   "cell_type": "code",
   "execution_count": 16,
   "metadata": {},
   "outputs": [
    {
     "name": "stdout",
     "output_type": "stream",
     "text": [
      "main method has order 2\n",
      "SSPERK(s,2) error metric values\n",
      "[0.18633899812498247, 0.16666666666666666, 0.14433756729740643, 0.125, 1.0]\n",
      "\n",
      "\n",
      "main method has order 1\n",
      "b_1 error metric values\n",
      "[0.5, 0.5, 0.23570226039551584, 0.16666666666666666, 1.0]\n",
      "\n",
      "\n",
      "main method has order 1\n",
      "b_2 error metric values\n",
      "[0.25, 0.25, 0.1717960677340692, 0.16666666666666666, 1.0]\n"
     ]
    }
   ],
   "source": [
    "## The common metric values for the original method and the embedded methods \n",
    "rk2 = rk.SSPRK2(s)\n",
    "original=rk2.error_metrics()\n",
    "print('SSPERK(s,2) error metric values')\n",
    "print([float(original[i]) for i in range(len(original))])\n",
    "print('\\n')\n",
    "rk2.b=b_1\n",
    "embedded1=rk2.error_metrics()\n",
    "print('b_1 error metric values')\n",
    "print([float(embedded1[i]) for i in range(len(embedded1))])\n",
    "print('\\n')\n",
    "rk2.b=b_2\n",
    "embedded2=rk2.error_metrics()\n",
    "print('b_2 error metric values')\n",
    "print([float(embedded2[i]) for i in range(len(embedded2))])"
   ]
  }
 ],
 "metadata": {
  "kernelspec": {
   "display_name": "Python 3",
   "language": "python",
   "name": "python3"
  },
  "language_info": {
   "codemirror_mode": {
    "name": "ipython",
    "version": 3
   },
   "file_extension": ".py",
   "mimetype": "text/x-python",
   "name": "python",
   "nbconvert_exporter": "python",
   "pygments_lexer": "ipython3",
   "version": "3.8.0"
  }
 },
 "nbformat": 4,
 "nbformat_minor": 1
}
