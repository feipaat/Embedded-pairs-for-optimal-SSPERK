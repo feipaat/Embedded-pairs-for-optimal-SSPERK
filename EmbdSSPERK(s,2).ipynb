{
 "cells": [
  {
   "cell_type": "markdown",
   "metadata": {},
   "source": [
    "# Embedded SSPERK$(s,2)$ pairs"
   ]
  },
  {
   "cell_type": "markdown",
   "metadata": {},
   "source": [
    "Consider the case SSPERK($s$,2) with our suggested embedded pairs. These are $$b_1^T=\\left(\\frac{1}{s-1},\\ldots,\\frac{1}{s-1},0\\right)\\quad \\text{and}\\ \\quad b_2^T=\\left(\\frac{s+1}{s^2},\\frac{1}{s},\\ldots,\\frac{1}{s},\\frac{s-1}{s^2}\\right).$$\n",
    "\n",
    "Below we compare our pairs and the original method based on different measumerement values from the paper of van der Marel (1990)."
   ]
  },
  {
   "cell_type": "code",
   "execution_count": 22,
   "metadata": {
    "collapsed": true
   },
   "outputs": [],
   "source": [
    "%matplotlib inline\n",
    "import matplotlib.pyplot as plt\n",
    "from nodepy import rk\n",
    "import numpy as np\n",
    "import math"
   ]
  },
  {
   "cell_type": "code",
   "execution_count": 23,
   "metadata": {
    "collapsed": false
   },
   "outputs": [
    {
     "name": "stdout",
     "output_type": "stream",
     "text": [
      "2.0\n",
      "Warning: unable to determine exact imaginary stability interval\n",
      "2.98023223877e-08\n",
      "1.0\n",
      "0.999999999931\n"
     ]
    }
   ],
   "source": [
    "s = 2\n",
    "rk2 = rk.SSPRK2(s)\n",
    "#print rk2\n",
    "\n",
    "# Real stability interval, Imaginary stability interval, Circle contractivity radius\n",
    "print rk2.__num__().real_stability_interval(mode='float')\n",
    "print rk2.__num__().imaginary_stability_interval(mode='float')\n",
    "print rk2.__num__().circle_contractivity_radius()\n",
    "print rk2.__num__().absolute_monotonicity_radius()"
   ]
  },
  {
   "cell_type": "code",
   "execution_count": 25,
   "metadata": {
    "collapsed": false
   },
   "outputs": [
    {
     "name": "stdout",
     "output_type": "stream",
     "text": [
      "[ 1.  0.]\n",
      "2.0\n",
      "0\n",
      "1.0\n",
      "0.999999999931\n"
     ]
    },
    {
     "data": {
      "image/png": "[encoded data removed]",
      "text/plain": [
       "<matplotlib.figure.Figure at 0x124dc55d0>"
      ]
     },
     "metadata": {},
     "output_type": "display_data"
    }
   ],
   "source": [
    "# Case b_1\n",
    "b1 = 1./(s-1) * np.ones(s); b1[s-1]=0;\n",
    "print b1\n",
    "rk_b1pair = rk.ExplicitRungeKuttaPair(rk2.A,rk2.b,b1)\n",
    "fig1=rk_b1pair.plot_stability_region(N=1000);\n",
    "fig1.axes[0].set_title('')\n",
    "#plt.savefig('SSPERKs2.pdf', format='pdf', dpi=10000)\n",
    "\n",
    "print rk_b1pair.embedded_method.__num__().real_stability_interval(mode='float')\n",
    "print rk_b1pair.embedded_method.__num__().imaginary_stability_interval(mode='float')\n",
    "print rk_b1pair.embedded_method.__num__().circle_contractivity_radius()\n",
    "print rk_b1pair.embedded_method.__num__().absolute_monotonicity_radius()\n"
   ]
  },
  {
   "cell_type": "code",
   "execution_count": 27,
   "metadata": {
    "collapsed": false
   },
   "outputs": [
    {
     "name": "stdout",
     "output_type": "stream",
     "text": [
      "[ 0.75  0.25]\n",
      "4.0\n",
      "0\n",
      "1.26794919243\n",
      "0.999999999931\n"
     ]
    },
    {
     "data": {
      "image/png": "[encoded data removed]",
      "text/plain": [
       "<matplotlib.figure.Figure at 0x12b664110>"
      ]
     },
     "metadata": {},
     "output_type": "display_data"
    }
   ],
   "source": [
    "# Case b_2\n",
    "b2 = 1./(s) * np.ones(s); b2[0]=(s+1.)/(s*s); b2[s-1]=(s-1.)/(s*s);\n",
    "print b2\n",
    "rk_b2pair = rk.ExplicitRungeKuttaPair(rk2.A,rk2.b,b2)\n",
    "fig2=rk_b2pair.plot_stability_region(N=1000);\n",
    "#fig2.axes[0].set_title('')\n",
    "#plt.savefig('SSPERKs2.pdf', format='pdf', dpi=10000)\n",
    "\n",
    "print rk_b2pair.embedded_method.__num__().real_stability_interval(mode='float')\n",
    "print rk_b2pair.embedded_method.__num__().imaginary_stability_interval(mode='float')\n",
    "print rk_b2pair.embedded_method.__num__().circle_contractivity_radius()\n",
    "print rk_b2pair.embedded_method.__num__().absolute_monotonicity_radius()"
   ]
  },
  {
   "cell_type": "markdown",
   "metadata": {
    "collapsed": true
   },
   "source": [
    "Below we compare our pairs and the original method based on different measumerement values from the paper of Kennedy and Carpenter (2000)."
   ]
  },
  {
   "cell_type": "code",
   "execution_count": 21,
   "metadata": {
    "collapsed": false
   },
   "outputs": [
    {
     "name": "stdout",
     "output_type": "stream",
     "text": [
      "[0.18633899812498247, 0.16666666666666666, 0.14433756729740643, 0.125, 1.0]\n",
      "[0.5, 0.5, 0.23570226039551584, 0.16666666666666666, 1.0]\n",
      "[0.25, 0.25, 0.1717960677340692, 0.16666666666666666, 1.0]\n"
     ]
    }
   ],
   "source": [
    "rk2 = rk.SSPRK2(s)\n",
    "original=rk2.error_metrics()\n",
    "print [float(original[i]) for i in xrange(len(original))]\n",
    "b1 = 1./(s-1) * np.ones(s); b1[s-1]=0;\n",
    "rk2.b=b1\n",
    "embedded1=rk2.error_metrics()\n",
    "print [float(embedded1[i]) for i in xrange(len(embedded1))]\n",
    "b2 = 1./(s) * np.ones(s); b2[0]=(s+1.)/(s*s); b2[s-1]=(s-1.)/(s*s);\n",
    "rk2.b=b2\n",
    "embedded2=rk2.error_metrics()\n",
    "print [float(embedded2[i]) for i in xrange(len(embedded2))]"
   ]
  },
  {
   "cell_type": "code",
   "execution_count": null,
   "metadata": {
    "collapsed": true
   },
   "outputs": [],
   "source": []
  }
 ],
 "metadata": {
  "kernelspec": {
   "display_name": "Python 2",
   "language": "python",
   "name": "python2"
  },
  "language_info": {
   "codemirror_mode": {
    "name": "ipython",
    "version": 2
   },
   "file_extension": ".py",
   "mimetype": "text/x-python",
   "name": "python",
   "nbconvert_exporter": "python",
   "pygments_lexer": "ipython2",
   "version": "2.7.11"
  }
 },
 "nbformat": 4,
 "nbformat_minor": 0
}
